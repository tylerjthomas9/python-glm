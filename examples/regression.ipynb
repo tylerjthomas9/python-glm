{
 "cells": [
  {
   "cell_type": "code",
   "execution_count": 1,
   "metadata": {},
   "outputs": [],
   "source": [
    "import sys\n",
    "sys.path.append(\"../glm/\") # project scripts\n",
    "import glm # my glm\n",
    "import families # my regression families\n",
    "import numpy as np # array manipulation\n",
    "import statsmodels.api as sm # baseline models\n",
    "from sklearn.datasets import make_classification # create test data\n",
    "from sklearn.preprocessing import StandardScaler # scale data to prevent computation errors\n",
    "scaler = StandardScaler()"
   ]
  },
  {
   "cell_type": "markdown",
   "metadata": {},
   "source": [
    "## Logistic Regression"
   ]
  },
  {
   "cell_type": "code",
   "execution_count": 2,
   "metadata": {},
   "outputs": [],
   "source": [
    "# create synthetic test data\n",
    "X_logistic, y_logistic = make_classification(n_samples=1000, \n",
    "                                             n_classes=2, \n",
    "                                             n_features=4,\n",
    "                                             n_informative=4,\n",
    "                                             n_redundant=0,\n",
    "                                             n_clusters_per_class=1, \n",
    "                                             random_state=42)\n",
    "\n",
    "X_logistic = scaler.fit_transform(X_logistic)"
   ]
  },
  {
   "cell_type": "code",
   "execution_count": 3,
   "metadata": {},
   "outputs": [
    {
     "name": "stdout",
     "output_type": "stream",
     "text": [
      "----------------  --------\n",
      "No. Observations  1000\n",
      "No. Variables        5\n",
      "No. Iterations       6\n",
      "Log-Likelihood    -282.198\n",
      "Deviance           564.397\n",
      "p_value              1\n",
      "----------------  --------\n",
      "\n",
      "           coef    std err           z        P>|z|     [0.025     0.975]\n",
      "---  ----------  ---------  ----------  -----------  ---------  ---------\n",
      "int  -0.0778499   0.126767   -0.614117  0.539138     -0.326309   0.170609\n",
      "b0    4.0938      0.251351   16.2872    1.21722e-59   3.60116    4.58644\n",
      "b1   -0.431071    0.149654   -2.88044   0.00397114   -0.724389  -0.137754\n",
      "b2   -1.75978     0.171045  -10.2884    7.95069e-25  -2.09502   -1.42453\n",
      "b3    2.43129     0.20903    11.6313    2.85781e-31   2.0216     2.84098\n"
     ]
    }
   ],
   "source": [
    "# fit model, check results\n",
    "lr  = glm.GLM(family=families.LogisticRegression())\n",
    "lr = lr.fit(X_logistic, y_logistic,)\n",
    "lr.summary()"
   ]
  },
  {
   "cell_type": "code",
   "execution_count": 4,
   "metadata": {},
   "outputs": [
    {
     "data": {
      "text/html": [
       "<div>\n",
       "<style scoped>\n",
       "    .dataframe tbody tr th:only-of-type {\n",
       "        vertical-align: middle;\n",
       "    }\n",
       "\n",
       "    .dataframe tbody tr th {\n",
       "        vertical-align: top;\n",
       "    }\n",
       "\n",
       "    .dataframe thead th {\n",
       "        text-align: right;\n",
       "    }\n",
       "</style>\n",
       "<table border=\"1\" class=\"dataframe\">\n",
       "  <thead>\n",
       "    <tr style=\"text-align: right;\">\n",
       "      <th></th>\n",
       "      <th>predicted value</th>\n",
       "      <th>eta standard error</th>\n",
       "      <th>[0.025</th>\n",
       "      <th>0.975]</th>\n",
       "      <th>True Value</th>\n",
       "    </tr>\n",
       "  </thead>\n",
       "  <tbody>\n",
       "    <tr>\n",
       "      <th>0</th>\n",
       "      <td>0.969527</td>\n",
       "      <td>0.123873</td>\n",
       "      <td>0.961475</td>\n",
       "      <td>0.975938</td>\n",
       "      <td>1</td>\n",
       "    </tr>\n",
       "    <tr>\n",
       "      <th>1</th>\n",
       "      <td>0.945340</td>\n",
       "      <td>0.139845</td>\n",
       "      <td>0.929322</td>\n",
       "      <td>0.957892</td>\n",
       "      <td>1</td>\n",
       "    </tr>\n",
       "    <tr>\n",
       "      <th>2</th>\n",
       "      <td>0.942286</td>\n",
       "      <td>0.136111</td>\n",
       "      <td>0.925947</td>\n",
       "      <td>0.955194</td>\n",
       "      <td>1</td>\n",
       "    </tr>\n",
       "    <tr>\n",
       "      <th>3</th>\n",
       "      <td>0.000499</td>\n",
       "      <td>0.452532</td>\n",
       "      <td>0.000206</td>\n",
       "      <td>0.001211</td>\n",
       "      <td>0</td>\n",
       "    </tr>\n",
       "    <tr>\n",
       "      <th>4</th>\n",
       "      <td>0.047920</td>\n",
       "      <td>0.065557</td>\n",
       "      <td>0.042387</td>\n",
       "      <td>0.054135</td>\n",
       "      <td>0</td>\n",
       "    </tr>\n",
       "  </tbody>\n",
       "</table>\n",
       "</div>"
      ],
      "text/plain": [
       "   predicted value  eta standard error    [0.025    0.975]  True Value\n",
       "0         0.969527            0.123873  0.961475  0.975938           1\n",
       "1         0.945340            0.139845  0.929322  0.957892           1\n",
       "2         0.942286            0.136111  0.925947  0.955194           1\n",
       "3         0.000499            0.452532  0.000206  0.001211           0\n",
       "4         0.047920            0.065557  0.042387  0.054135           0"
      ]
     },
     "execution_count": 4,
     "metadata": {},
     "output_type": "execute_result"
    }
   ],
   "source": [
    "# get prediction intervals\n",
    "lr.prediction_ci( X_logistic[0:5], y_logistic[0:5])"
   ]
  },
  {
   "cell_type": "code",
   "execution_count": null,
   "metadata": {},
   "outputs": [],
   "source": []
  }
 ],
 "metadata": {
  "kernelspec": {
   "display_name": "Python 3",
   "language": "python",
   "name": "python3"
  },
  "language_info": {
   "codemirror_mode": {
    "name": "ipython",
    "version": 3
   },
   "file_extension": ".py",
   "mimetype": "text/x-python",
   "name": "python",
   "nbconvert_exporter": "python",
   "pygments_lexer": "ipython3",
   "version": "3.8.5"
  }
 },
 "nbformat": 4,
 "nbformat_minor": 4
}
